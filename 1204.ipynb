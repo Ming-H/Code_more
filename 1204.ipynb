{
 "cells": [
  {
   "cell_type": "code",
   "execution_count": 1,
   "metadata": {},
   "outputs": [],
   "source": [
    "from __future__ import absolute_import, division, print_function, unicode_literals\n",
    "import tensorflow as tf\n",
    "tf.keras.backend.clear_session()"
   ]
  },
  {
   "cell_type": "code",
   "execution_count": 2,
   "metadata": {},
   "outputs": [
    {
     "name": "stdout",
     "output_type": "stream",
     "text": [
      "tf.Tensor(\n",
      "[[ 0.02999987 -0.01697373  0.03409205 -0.01827599]\n",
      " [ 0.02999987 -0.01697373  0.03409205 -0.01827599]], shape=(2, 4), dtype=float32)\n"
     ]
    }
   ],
   "source": [
    "from tensorflow.keras import layers\n",
    "class Linear(layers.Layer):\n",
    "  def __init__(self, units=32, input_dim=32):\n",
    "    super(Linear, self).__init__()\n",
    "    w_init = tf.random_normal_initializer()\n",
    "    self.w = tf.Variable(initial_value=w_init(shape=(input_dim, units),\n",
    "                                              dtype='float32'),\n",
    "                                              trainable=True)\n",
    "    b_init = tf.zeros_initializer()\n",
    "    self.b = tf.Variable(initial_value=b_init(shape=(units,),\n",
    "                                              dtype='float32'),\n",
    "                                              trainable=True)\n",
    "\n",
    "  def call(self, inputs):\n",
    "    return tf.matmul(inputs, self.w) + self.b\n",
    "\n",
    "x = tf.ones((2, 2))\n",
    "linear_layer = Linear(4, 2)\n",
    "y = linear_layer(x)\n",
    "print(y)"
   ]
  },
  {
   "cell_type": "code",
   "execution_count": 3,
   "metadata": {},
   "outputs": [
    {
     "name": "stderr",
     "output_type": "stream",
     "text": [
      "/usr/local/lib/python3.7/site-packages/sklearn/externals/joblib/__init__.py:15: DeprecationWarning: sklearn.externals.joblib is deprecated in 0.21 and will be removed in 0.23. Please import this functionality directly from joblib, which can be installed with: pip install joblib. If this warning is raised when loading pickled models, you may need to re-serialize those models with scikit-learn 0.21+.\n",
      "  warnings.warn(msg, category=DeprecationWarning)\n"
     ]
    },
    {
     "ename": "FileNotFoundError",
     "evalue": "[Errno 2] File b'point_result.csv' does not exist: b'point_result.csv'",
     "output_type": "error",
     "traceback": [
      "\u001b[0;31m---------------------------------------------------------------------------\u001b[0m",
      "\u001b[0;31mFileNotFoundError\u001b[0m                         Traceback (most recent call last)",
      "\u001b[0;32m<ipython-input-3-e9d039c26084>\u001b[0m in \u001b[0;36m<module>\u001b[0;34m\u001b[0m\n\u001b[1;32m      5\u001b[0m \u001b[0;32mfrom\u001b[0m \u001b[0msklearn\u001b[0m\u001b[0;34m.\u001b[0m\u001b[0mexternals\u001b[0m \u001b[0;32mimport\u001b[0m \u001b[0mjoblib\u001b[0m\u001b[0;34m\u001b[0m\u001b[0;34m\u001b[0m\u001b[0m\n\u001b[1;32m      6\u001b[0m \u001b[0;34m\u001b[0m\u001b[0m\n\u001b[0;32m----> 7\u001b[0;31m \u001b[0mdf_data\u001b[0m \u001b[0;34m=\u001b[0m \u001b[0mpd\u001b[0m\u001b[0;34m.\u001b[0m\u001b[0mread_csv\u001b[0m\u001b[0;34m(\u001b[0m\u001b[0;34m\"point_result.csv\"\u001b[0m\u001b[0;34m)\u001b[0m\u001b[0;34m\u001b[0m\u001b[0;34m\u001b[0m\u001b[0m\n\u001b[0m\u001b[1;32m      8\u001b[0m \u001b[0mdf_passid\u001b[0m \u001b[0;34m=\u001b[0m \u001b[0mdf_data\u001b[0m\u001b[0;34m[\u001b[0m\u001b[0;34m'user_id'\u001b[0m\u001b[0;34m,\u001b[0m \u001b[0;34m'type'\u001b[0m\u001b[0;34m]\u001b[0m\u001b[0;34m\u001b[0m\u001b[0;34m\u001b[0m\u001b[0m\n\u001b[1;32m      9\u001b[0m \u001b[0mcolumns\u001b[0m \u001b[0;34m=\u001b[0m \u001b[0mdf_data\u001b[0m\u001b[0;34m.\u001b[0m\u001b[0mcolumns\u001b[0m\u001b[0;34m[\u001b[0m\u001b[0;36m2\u001b[0m\u001b[0;34m:\u001b[0m\u001b[0;34m]\u001b[0m\u001b[0;34m\u001b[0m\u001b[0;34m\u001b[0m\u001b[0m\n",
      "\u001b[0;32m/usr/local/lib/python3.7/site-packages/pandas/io/parsers.py\u001b[0m in \u001b[0;36mparser_f\u001b[0;34m(filepath_or_buffer, sep, delimiter, header, names, index_col, usecols, squeeze, prefix, mangle_dupe_cols, dtype, engine, converters, true_values, false_values, skipinitialspace, skiprows, skipfooter, nrows, na_values, keep_default_na, na_filter, verbose, skip_blank_lines, parse_dates, infer_datetime_format, keep_date_col, date_parser, dayfirst, cache_dates, iterator, chunksize, compression, thousands, decimal, lineterminator, quotechar, quoting, doublequote, escapechar, comment, encoding, dialect, error_bad_lines, warn_bad_lines, delim_whitespace, low_memory, memory_map, float_precision)\u001b[0m\n\u001b[1;32m    683\u001b[0m         )\n\u001b[1;32m    684\u001b[0m \u001b[0;34m\u001b[0m\u001b[0m\n\u001b[0;32m--> 685\u001b[0;31m         \u001b[0;32mreturn\u001b[0m \u001b[0m_read\u001b[0m\u001b[0;34m(\u001b[0m\u001b[0mfilepath_or_buffer\u001b[0m\u001b[0;34m,\u001b[0m \u001b[0mkwds\u001b[0m\u001b[0;34m)\u001b[0m\u001b[0;34m\u001b[0m\u001b[0;34m\u001b[0m\u001b[0m\n\u001b[0m\u001b[1;32m    686\u001b[0m \u001b[0;34m\u001b[0m\u001b[0m\n\u001b[1;32m    687\u001b[0m     \u001b[0mparser_f\u001b[0m\u001b[0;34m.\u001b[0m\u001b[0m__name__\u001b[0m \u001b[0;34m=\u001b[0m \u001b[0mname\u001b[0m\u001b[0;34m\u001b[0m\u001b[0;34m\u001b[0m\u001b[0m\n",
      "\u001b[0;32m/usr/local/lib/python3.7/site-packages/pandas/io/parsers.py\u001b[0m in \u001b[0;36m_read\u001b[0;34m(filepath_or_buffer, kwds)\u001b[0m\n\u001b[1;32m    455\u001b[0m \u001b[0;34m\u001b[0m\u001b[0m\n\u001b[1;32m    456\u001b[0m     \u001b[0;31m# Create the parser.\u001b[0m\u001b[0;34m\u001b[0m\u001b[0;34m\u001b[0m\u001b[0;34m\u001b[0m\u001b[0m\n\u001b[0;32m--> 457\u001b[0;31m     \u001b[0mparser\u001b[0m \u001b[0;34m=\u001b[0m \u001b[0mTextFileReader\u001b[0m\u001b[0;34m(\u001b[0m\u001b[0mfp_or_buf\u001b[0m\u001b[0;34m,\u001b[0m \u001b[0;34m**\u001b[0m\u001b[0mkwds\u001b[0m\u001b[0;34m)\u001b[0m\u001b[0;34m\u001b[0m\u001b[0;34m\u001b[0m\u001b[0m\n\u001b[0m\u001b[1;32m    458\u001b[0m \u001b[0;34m\u001b[0m\u001b[0m\n\u001b[1;32m    459\u001b[0m     \u001b[0;32mif\u001b[0m \u001b[0mchunksize\u001b[0m \u001b[0;32mor\u001b[0m \u001b[0miterator\u001b[0m\u001b[0;34m:\u001b[0m\u001b[0;34m\u001b[0m\u001b[0;34m\u001b[0m\u001b[0m\n",
      "\u001b[0;32m/usr/local/lib/python3.7/site-packages/pandas/io/parsers.py\u001b[0m in \u001b[0;36m__init__\u001b[0;34m(self, f, engine, **kwds)\u001b[0m\n\u001b[1;32m    893\u001b[0m             \u001b[0mself\u001b[0m\u001b[0;34m.\u001b[0m\u001b[0moptions\u001b[0m\u001b[0;34m[\u001b[0m\u001b[0;34m\"has_index_names\"\u001b[0m\u001b[0;34m]\u001b[0m \u001b[0;34m=\u001b[0m \u001b[0mkwds\u001b[0m\u001b[0;34m[\u001b[0m\u001b[0;34m\"has_index_names\"\u001b[0m\u001b[0;34m]\u001b[0m\u001b[0;34m\u001b[0m\u001b[0;34m\u001b[0m\u001b[0m\n\u001b[1;32m    894\u001b[0m \u001b[0;34m\u001b[0m\u001b[0m\n\u001b[0;32m--> 895\u001b[0;31m         \u001b[0mself\u001b[0m\u001b[0;34m.\u001b[0m\u001b[0m_make_engine\u001b[0m\u001b[0;34m(\u001b[0m\u001b[0mself\u001b[0m\u001b[0;34m.\u001b[0m\u001b[0mengine\u001b[0m\u001b[0;34m)\u001b[0m\u001b[0;34m\u001b[0m\u001b[0;34m\u001b[0m\u001b[0m\n\u001b[0m\u001b[1;32m    896\u001b[0m \u001b[0;34m\u001b[0m\u001b[0m\n\u001b[1;32m    897\u001b[0m     \u001b[0;32mdef\u001b[0m \u001b[0mclose\u001b[0m\u001b[0;34m(\u001b[0m\u001b[0mself\u001b[0m\u001b[0;34m)\u001b[0m\u001b[0;34m:\u001b[0m\u001b[0;34m\u001b[0m\u001b[0;34m\u001b[0m\u001b[0m\n",
      "\u001b[0;32m/usr/local/lib/python3.7/site-packages/pandas/io/parsers.py\u001b[0m in \u001b[0;36m_make_engine\u001b[0;34m(self, engine)\u001b[0m\n\u001b[1;32m   1133\u001b[0m     \u001b[0;32mdef\u001b[0m \u001b[0m_make_engine\u001b[0m\u001b[0;34m(\u001b[0m\u001b[0mself\u001b[0m\u001b[0;34m,\u001b[0m \u001b[0mengine\u001b[0m\u001b[0;34m=\u001b[0m\u001b[0;34m\"c\"\u001b[0m\u001b[0;34m)\u001b[0m\u001b[0;34m:\u001b[0m\u001b[0;34m\u001b[0m\u001b[0;34m\u001b[0m\u001b[0m\n\u001b[1;32m   1134\u001b[0m         \u001b[0;32mif\u001b[0m \u001b[0mengine\u001b[0m \u001b[0;34m==\u001b[0m \u001b[0;34m\"c\"\u001b[0m\u001b[0;34m:\u001b[0m\u001b[0;34m\u001b[0m\u001b[0;34m\u001b[0m\u001b[0m\n\u001b[0;32m-> 1135\u001b[0;31m             \u001b[0mself\u001b[0m\u001b[0;34m.\u001b[0m\u001b[0m_engine\u001b[0m \u001b[0;34m=\u001b[0m \u001b[0mCParserWrapper\u001b[0m\u001b[0;34m(\u001b[0m\u001b[0mself\u001b[0m\u001b[0;34m.\u001b[0m\u001b[0mf\u001b[0m\u001b[0;34m,\u001b[0m \u001b[0;34m**\u001b[0m\u001b[0mself\u001b[0m\u001b[0;34m.\u001b[0m\u001b[0moptions\u001b[0m\u001b[0;34m)\u001b[0m\u001b[0;34m\u001b[0m\u001b[0;34m\u001b[0m\u001b[0m\n\u001b[0m\u001b[1;32m   1136\u001b[0m         \u001b[0;32melse\u001b[0m\u001b[0;34m:\u001b[0m\u001b[0;34m\u001b[0m\u001b[0;34m\u001b[0m\u001b[0m\n\u001b[1;32m   1137\u001b[0m             \u001b[0;32mif\u001b[0m \u001b[0mengine\u001b[0m \u001b[0;34m==\u001b[0m \u001b[0;34m\"python\"\u001b[0m\u001b[0;34m:\u001b[0m\u001b[0;34m\u001b[0m\u001b[0;34m\u001b[0m\u001b[0m\n",
      "\u001b[0;32m/usr/local/lib/python3.7/site-packages/pandas/io/parsers.py\u001b[0m in \u001b[0;36m__init__\u001b[0;34m(self, src, **kwds)\u001b[0m\n\u001b[1;32m   1915\u001b[0m         \u001b[0mkwds\u001b[0m\u001b[0;34m[\u001b[0m\u001b[0;34m\"usecols\"\u001b[0m\u001b[0;34m]\u001b[0m \u001b[0;34m=\u001b[0m \u001b[0mself\u001b[0m\u001b[0;34m.\u001b[0m\u001b[0musecols\u001b[0m\u001b[0;34m\u001b[0m\u001b[0;34m\u001b[0m\u001b[0m\n\u001b[1;32m   1916\u001b[0m \u001b[0;34m\u001b[0m\u001b[0m\n\u001b[0;32m-> 1917\u001b[0;31m         \u001b[0mself\u001b[0m\u001b[0;34m.\u001b[0m\u001b[0m_reader\u001b[0m \u001b[0;34m=\u001b[0m \u001b[0mparsers\u001b[0m\u001b[0;34m.\u001b[0m\u001b[0mTextReader\u001b[0m\u001b[0;34m(\u001b[0m\u001b[0msrc\u001b[0m\u001b[0;34m,\u001b[0m \u001b[0;34m**\u001b[0m\u001b[0mkwds\u001b[0m\u001b[0;34m)\u001b[0m\u001b[0;34m\u001b[0m\u001b[0;34m\u001b[0m\u001b[0m\n\u001b[0m\u001b[1;32m   1918\u001b[0m         \u001b[0mself\u001b[0m\u001b[0;34m.\u001b[0m\u001b[0munnamed_cols\u001b[0m \u001b[0;34m=\u001b[0m \u001b[0mself\u001b[0m\u001b[0;34m.\u001b[0m\u001b[0m_reader\u001b[0m\u001b[0;34m.\u001b[0m\u001b[0munnamed_cols\u001b[0m\u001b[0;34m\u001b[0m\u001b[0;34m\u001b[0m\u001b[0m\n\u001b[1;32m   1919\u001b[0m \u001b[0;34m\u001b[0m\u001b[0m\n",
      "\u001b[0;32mpandas/_libs/parsers.pyx\u001b[0m in \u001b[0;36mpandas._libs.parsers.TextReader.__cinit__\u001b[0;34m()\u001b[0m\n",
      "\u001b[0;32mpandas/_libs/parsers.pyx\u001b[0m in \u001b[0;36mpandas._libs.parsers.TextReader._setup_parser_source\u001b[0;34m()\u001b[0m\n",
      "\u001b[0;31mFileNotFoundError\u001b[0m: [Errno 2] File b'point_result.csv' does not exist: b'point_result.csv'"
     ]
    }
   ],
   "source": [
    "from __future__ import print_function\n",
    "import numpy as np\n",
    "import pandas as pd\n",
    "from sklearn import preprocessing\n",
    "from sklearn.externals import joblib\n",
    "\n",
    "df_data = pd.read_csv(\"point_result.csv\")\n",
    "df_passid = df_data['user_id', 'type']\n",
    "columns = df_data.columns[2:]\n",
    "#RobustScaler标准化\n",
    "robustscaler=preprocessing.RobustScaler()      #\n",
    "data_scale=robustscaler.fit_transform(df_data.values[:, 2:]) \n",
    "df_new = pd.concat([df_passid, pd.DataFrame(data_scale, columns=columns)], axis=1)\n",
    "df_new.to_csv(\"point_result.csv_RobustScaler\")\n",
    "joblib.dump(robustscaler, filename='robustscaler')\n",
    "del df_data, df_passid, df_new\n",
    "\n",
    "for item in ['eval_point_result', 'oot_point_result']:\n",
    "    df_data = pd.read_csv(item)\n",
    "    df_passid = df_data['user_id', 'type']\n",
    "    columns = df_data.columns[2:]\n",
    "    #RobustScaler标准化\n",
    "    robustscaler = joblib.load('robustscaler')      \n",
    "    data_scale=robustscaler.fit_transform(df_data.values[:, 2:]) \n",
    "    df_new = pd.concat([df_passid, pd.DataFrame(data_scale, columns=columns)], axis=1)\n",
    "    df_new.to_csv(item + \"_RobustScaler\")\n",
    "    del df_data, df_passid, df_new\n",
    "             "
   ]
  },
  {
   "cell_type": "code",
   "execution_count": 4,
   "metadata": {},
   "outputs": [],
   "source": [
    "def maxArea(nums):\n",
    "    if not nums or not nums[0]:\n",
    "        return 0\n",
    "    n = len(nums[0])\n",
    "    height = [0] * (n+1)\n",
    "    ans = 0\n",
    "    for row in nums:\n",
    "        for i in range(n):\n",
    "            height[i] = height[i]+1 if row[i]=='1' else 0\n",
    "        stakc = [-1]\n",
    "        for i in range(n+1):\n",
    "            while height[i]<height[sack[-1]]:\n",
    "                h = height[stakc.pop()]\n",
    "                w = i-1-stack[-1]\n",
    "                ans = max(ans, h*w)\n",
    "            stack.append(i)\n",
    "    return ans"
   ]
  },
  {
   "cell_type": "code",
   "execution_count": 5,
   "metadata": {},
   "outputs": [
    {
     "name": "stdout",
     "output_type": "stream",
     "text": [
      "6\n"
     ]
    }
   ],
   "source": [
    "def maximalRectangle(matrix):\n",
    "    if not matrix or not matrix[0]:\n",
    "        return 0\n",
    "    n = len(matrix[0])\n",
    "    height = [0] * (n + 1)\n",
    "    ans = 0\n",
    "    for row in matrix:\n",
    "        for i in range(n):\n",
    "            height[i] = height[i] + 1 if row[i] == '1' else 0\n",
    "        stack = [-1]\n",
    "        for i in range(n + 1):\n",
    "            while height[i] < height[stack[-1]]:\n",
    "                h = height[stack.pop()]\n",
    "                w = i - 1 - stack[-1]\n",
    "                ans = max(ans, h * w)\n",
    "            stack.append(i)\n",
    "    return ans    \n",
    "\n",
    "matrix = [\n",
    "  [\"1\",\"0\",\"1\",\"0\",\"0\"],\n",
    "  [\"1\",\"0\",\"1\",\"1\",\"1\"],\n",
    "  [\"1\",\"1\",\"1\",\"1\",\"1\"],\n",
    "  [\"1\",\"0\",\"0\",\"1\",\"0\"]\n",
    "]\n",
    "print(maximalRectangle(matrix))"
   ]
  },
  {
   "cell_type": "code",
   "execution_count": 7,
   "metadata": {},
   "outputs": [
    {
     "name": "stdout",
     "output_type": "stream",
     "text": [
      "[1, 2, 2, 3, 5, 6]\n"
     ]
    }
   ],
   "source": [
    "def merge(nums1, nums2,m,n):\n",
    "    m, n = m-1, n-1\n",
    "    while m>=0 and n>=0:\n",
    "        if nums1[m]>nums2[n]:\n",
    "            nums1[m+n+1] = nums1[m]\n",
    "            m -= 1\n",
    "        else:\n",
    "            nums1[m+n+1] = nums2[n]\n",
    "            n -= 1\n",
    "    if n!=-1:\n",
    "        nums1[:n+1] = nums2[:n+1]\n",
    "    return nums1\n",
    "nums1 = [1,2,3,0,0,0]\n",
    "m = 3\n",
    "nums2 = [2,5,6]  \n",
    "n = 3\n",
    "print(merge(nums1, nums2,m,n))"
   ]
  },
  {
   "cell_type": "code",
   "execution_count": 8,
   "metadata": {},
   "outputs": [],
   "source": [
    "def merge(nums1, mums2, m, n):\n",
    "    m, n =m-1, n-1\n",
    "    while m>=0 and n>=0:\n",
    "        if nums1[m]>nums2[n]:\n",
    "            nums1[m+n+1] = nums1[m]\n",
    "            m -= 1\n",
    "        else:\n",
    "            nums[m+n+1] = nums2[n]\n",
    "            n -= 1\n",
    "    if n!=-1:\n",
    "        nums1[:n+1] = nums2[:n+1]\n",
    "    return nums1  "
   ]
  },
  {
   "cell_type": "code",
   "execution_count": 16,
   "metadata": {},
   "outputs": [
    {
     "name": "stdout",
     "output_type": "stream",
     "text": [
      "[[], [1], [2], [1, 2], [2, 2], [1, 2, 2]]\n"
     ]
    }
   ],
   "source": [
    "def subset(S):\n",
    "    res = [[]]\n",
    "    S.sort()\n",
    "    for i in range(len(S)):\n",
    "        if i == 0 or S[i] != S[i - 1]:\n",
    "            l = len(res)\n",
    "        for j in range(len(res) - l, len(res)):\n",
    "            res.append(res[j] + [S[i]])\n",
    "    return res\n",
    "\n",
    "nums = [1,2,2]\n",
    "print(subset(nums))"
   ]
  },
  {
   "cell_type": "code",
   "execution_count": 18,
   "metadata": {},
   "outputs": [],
   "source": [
    "import numpy as np\n",
    "x_train_a = np.random.random((1000, 5, 3))\n"
   ]
  },
  {
   "cell_type": "code",
   "execution_count": 19,
   "metadata": {},
   "outputs": [
    {
     "data": {
      "text/plain": [
       "array([[[0.23746818, 0.4818518 , 0.89530834],\n",
       "        [0.68037639, 0.04703433, 0.04897151],\n",
       "        [0.38252779, 0.33150866, 0.2426059 ],\n",
       "        [0.19303766, 0.30975303, 0.27642024],\n",
       "        [0.61156273, 0.13664204, 0.97837431]],\n",
       "\n",
       "       [[0.92563459, 0.90337167, 0.77431607],\n",
       "        [0.55897707, 0.30753782, 0.4583325 ],\n",
       "        [0.97623223, 0.63133451, 0.83393914],\n",
       "        [0.08516923, 0.52480564, 0.67938804],\n",
       "        [0.33668251, 0.89269845, 0.83907634]],\n",
       "\n",
       "       [[0.12108905, 0.19299932, 0.91652412],\n",
       "        [0.15713801, 0.3809127 , 0.76621133],\n",
       "        [0.04799308, 0.99510331, 0.68281666],\n",
       "        [0.96722755, 0.77566851, 0.88294045],\n",
       "        [0.62428182, 0.64003691, 0.40050576]],\n",
       "\n",
       "       ...,\n",
       "\n",
       "       [[0.00716064, 0.14194531, 0.07983955],\n",
       "        [0.38046568, 0.69979242, 0.81539506],\n",
       "        [0.49800265, 0.12717695, 0.75326751],\n",
       "        [0.49134302, 0.98264649, 0.04406969],\n",
       "        [0.53773785, 0.37436503, 0.90350771]],\n",
       "\n",
       "       [[0.33542648, 0.35205131, 0.89048957],\n",
       "        [0.37623135, 0.77775101, 0.81378223],\n",
       "        [0.13446306, 0.57576219, 0.404168  ],\n",
       "        [0.12924154, 0.57521479, 0.44947289],\n",
       "        [0.6299468 , 0.57698587, 0.37370541]],\n",
       "\n",
       "       [[0.29102149, 0.76165354, 0.92801502],\n",
       "        [0.04952295, 0.52494508, 0.49720083],\n",
       "        [0.47346318, 0.26526385, 0.21437568],\n",
       "        [0.30676033, 0.57494483, 0.93255614],\n",
       "        [0.86823029, 0.4291856 , 0.71531851]]])"
      ]
     },
     "execution_count": 19,
     "metadata": {},
     "output_type": "execute_result"
    }
   ],
   "source": [
    "x_train_a"
   ]
  },
  {
   "cell_type": "code",
   "execution_count": 21,
   "metadata": {},
   "outputs": [
    {
     "name": "stdout",
     "output_type": "stream",
     "text": [
      "[[], [1], [2], [1, 2], [2, 2], [1, 2, 2]]\n"
     ]
    }
   ],
   "source": [
    "def subsetWithDup(S):\n",
    "    res = [[]]\n",
    "    S.sort()\n",
    "    for i in range(len(S)):\n",
    "        if i==0 or S[i]!=S[i-1]:\n",
    "            l = len(res)\n",
    "        for j in range(len(res)-l, len(res)):\n",
    "            res.append(res[j]+[S[i]])\n",
    "    return res\n",
    "S = [1,2,2]\n",
    "print(subsetWithDup(S))"
   ]
  },
  {
   "cell_type": "code",
   "execution_count": 22,
   "metadata": {},
   "outputs": [],
   "source": [
    "def buildTree(preorder, inorder):\n",
    "    if inorder:\n",
    "        ind = inorder.index(preorder.pop(0))\n",
    "        root = TreeNode(inorder[ind])\n",
    "        root.left = buildTree(preorder, inorder[0:ind])\n",
    "        root.right = buildTree(preorder, inorder[ind+1:])\n",
    "        return root\n",
    "    "
   ]
  },
  {
   "cell_type": "code",
   "execution_count": 23,
   "metadata": {},
   "outputs": [],
   "source": [
    "def buildTree(preorder, inorder):\n",
    "    if inorder:\n",
    "        ind = inorder.index(preorder.pop(0))\n",
    "        root = TreeNode(inorder[ind])\n",
    "        root.left = buildTree(preorder, inorder[0:ind])\n",
    "        root.right = buildTree(preorder, inorder[ind+1:])\n",
    "        return root"
   ]
  },
  {
   "cell_type": "code",
   "execution_count": 24,
   "metadata": {},
   "outputs": [],
   "source": [
    "def buildTree(inorder, postorder):\n",
    "    if not inorder or not postorder:\n",
    "        return None\n",
    "    root = TreeNode(postorder.pop())\n",
    "    inorderIndex = inorder.index(root.val)\n",
    "    root.left = buildTree(inorder[inorderIndex+1:],postorder)\n",
    "    root.right = buildTree(inorder[:inorderIndex], postorder)\n",
    "    return root"
   ]
  },
  {
   "cell_type": "code",
   "execution_count": 25,
   "metadata": {},
   "outputs": [],
   "source": [
    "def buildTree(inorder, postorder):\n",
    "    if not inorder or not postorder:\n",
    "        return None\n",
    "    root = TreeNode(postorder.pop())\n",
    "    inorderIndex = inorder.index(root.val)\n",
    "    root.right = buildTree(inorder[inorderIndex+1:], postorder)\n",
    "    root.left = buildTree(inorder[:inorderIndex], postorder)\n",
    "    return root"
   ]
  },
  {
   "cell_type": "code",
   "execution_count": 26,
   "metadata": {},
   "outputs": [],
   "source": [
    "def maxProfit(prices):\n",
    "    max_profit, min_price = 0, float('inf')\n",
    "    for item in prices:\n",
    "        min_price = min(min_price, item)\n",
    "        max_profit = max(max_profit, item-min_price)\n",
    "    return max_profit"
   ]
  },
  {
   "cell_type": "code",
   "execution_count": 27,
   "metadata": {},
   "outputs": [],
   "source": [
    "def maxProfit(prices):\n",
    "    max_profit, min_price = 0, float('inf')\n",
    "    for item in prices:\n",
    "        min_price = min(item, min_price)\n",
    "        max_profit = max(max_profit, item-min_price)\n",
    "    return max_profit"
   ]
  },
  {
   "cell_type": "code",
   "execution_count": 28,
   "metadata": {},
   "outputs": [],
   "source": [
    "def maxProfit(prices):\n",
    "    maxProfit = 0\n",
    "    for i in range(1, len(prices)):\n",
    "        if prices[i]>prices[i-1]:\n",
    "            maxProfit += prices[i] - prices[i-1]\n",
    "    return maxProfit"
   ]
  },
  {
   "cell_type": "code",
   "execution_count": 29,
   "metadata": {},
   "outputs": [],
   "source": [
    "def maxProfit(prices):\n",
    "    maxProfit = 0\n",
    "    for i in range(1, len(prices)):\n",
    "        if prices[i]>prices[i-1]:\n",
    "            maxProfit += prices[i]-prices[i-1]\n",
    "    return maxProfit"
   ]
  },
  {
   "cell_type": "code",
   "execution_count": 31,
   "metadata": {},
   "outputs": [
    {
     "name": "stdout",
     "output_type": "stream",
     "text": [
      "6\n"
     ]
    }
   ],
   "source": [
    "def maxProfit(prices):\n",
    "    n = len(prices)\n",
    "    if n==0:\n",
    "        return 0\n",
    "    dp = [0 for i in range(n)]\n",
    "    tmp = 0\n",
    "    for i in range(1, 3):\n",
    "        balance = -prices[0]\n",
    "        tmp = dp[0]\n",
    "        for j in range(1,n):\n",
    "            copy = dp[j]\n",
    "            dp[j] = max(dp[j-1], balance+prices[j])\n",
    "            balance = max(balance, tmp-prices[j])\n",
    "            tmp = copy\n",
    "    return dp[n-1]\n",
    "prices = [3,3,5,0,0,3,1,4]\n",
    "print(maxProfit(prices))"
   ]
  },
  {
   "cell_type": "code",
   "execution_count": 35,
   "metadata": {},
   "outputs": [
    {
     "name": "stdout",
     "output_type": "stream",
     "text": [
      "4\n"
     ]
    }
   ],
   "source": [
    "def longConsecutive(nums):\n",
    "    long_streak = 0\n",
    "    num_set = set(nums)\n",
    "    for item in num_set:\n",
    "        if item-1 not in num_set:\n",
    "            current_num = item\n",
    "            current_streak = 1\n",
    "            while current_num + 1 in num_set:\n",
    "                current_num += 1\n",
    "                current_streak += 1\n",
    "            long_streak = max(long_streak, current_streak)\n",
    "    return long_streak\n",
    "nums = [100, 4, 200, 1, 3, 2]\n",
    "print(longConsecutive(nums))"
   ]
  },
  {
   "cell_type": "code",
   "execution_count": 36,
   "metadata": {},
   "outputs": [],
   "source": [
    "def longConsecutive(nums):\n",
    "    long_streak = 0\n",
    "    num_set = set(nums)\n",
    "    for item in num_set:\n",
    "        if item-1 not in num_set:\n",
    "            current_num = item\n",
    "            current_streak = 1\n",
    "            while current_num+1 in num_set:\n",
    "                current_num += 1\n",
    "                current_streak += 1\n",
    "            long_streak = max(long_streak, current_streak)\n",
    "    return long_streak"
   ]
  },
  {
   "cell_type": "code",
   "execution_count": 37,
   "metadata": {},
   "outputs": [],
   "source": [
    "def longConsecutive(nums):\n",
    "    long_streak = 0\n",
    "    num_set = set(nums)\n",
    "    for item in num_set:\n",
    "        if item-1 not in num_set:\n",
    "            current_num = item\n",
    "            current_streak = 1\n",
    "            while current_num+1 in num_set:\n",
    "                current_num += 1\n",
    "                current_streak += 1\n",
    "            long_streak = max(long_streak, current_streak)\n",
    "    return long_streak"
   ]
  },
  {
   "cell_type": "code",
   "execution_count": 39,
   "metadata": {},
   "outputs": [
    {
     "name": "stdout",
     "output_type": "stream",
     "text": [
      "6\n"
     ]
    }
   ],
   "source": [
    "def maxProduct(nums):\n",
    "    if not nums:\n",
    "        return\n",
    "    locMin = locMax = gloMax = nums[0]\n",
    "    for i in range(1, len(nums)):\n",
    "        tmp = locMin\n",
    "        locMin = min(locMax*nums[i], nums[i], locMax*nums[i])\n",
    "        gloMax = max(gloMax, locMax)\n",
    "    return gloMax\n",
    "nums = [2,3,-2,4]\n",
    "print(maxProduct(nums))"
   ]
  },
  {
   "cell_type": "code",
   "execution_count": 41,
   "metadata": {},
   "outputs": [],
   "source": [
    "def maxProduct(nums):\n",
    "    if not nums:\n",
    "        return\n",
    "    locMin = locMax = gloMax = nums[0]\n",
    "    for i in range(1, len(nums)):\n",
    "        tmp = locMin\n",
    "        locMin = min(locMin*nums[i], nums[i], locMax*nums[i])\n",
    "        locMax = max(tmp*nums[i], nums[i], locMax*nums[i])\n",
    "        gloMax = max(gloMax, locMax)\n",
    "    return glomax"
   ]
  },
  {
   "cell_type": "code",
   "execution_count": null,
   "metadata": {},
   "outputs": [],
   "source": []
  }
 ],
 "metadata": {
  "kernelspec": {
   "display_name": "Python 3",
   "language": "python",
   "name": "python3"
  },
  "language_info": {
   "codemirror_mode": {
    "name": "ipython",
    "version": 3
   },
   "file_extension": ".py",
   "mimetype": "text/x-python",
   "name": "python",
   "nbconvert_exporter": "python",
   "pygments_lexer": "ipython3",
   "version": "3.7.5"
  }
 },
 "nbformat": 4,
 "nbformat_minor": 2
}
