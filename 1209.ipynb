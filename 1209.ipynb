{
 "cells": [
  {
   "cell_type": "code",
   "execution_count": 1,
   "metadata": {},
   "outputs": [
    {
     "data": {
      "text/plain": [
       "'/Users/dxm/Documents/HM_DXM/ML_Code/src'"
      ]
     },
     "execution_count": 1,
     "metadata": {},
     "output_type": "execute_result"
    }
   ],
   "source": [
    "pwd"
   ]
  },
  {
   "cell_type": "code",
   "execution_count": 2,
   "metadata": {},
   "outputs": [],
   "source": [
    "from tensorflow import keras"
   ]
  },
  {
   "cell_type": "code",
   "execution_count": 3,
   "metadata": {},
   "outputs": [],
   "source": [
    "import os\n",
    "import pandas as pd"
   ]
  },
  {
   "cell_type": "code",
   "execution_count": 9,
   "metadata": {},
   "outputs": [
    {
     "name": "stdout",
     "output_type": "stream",
     "text": [
      "[1, 3, 5, 7, 9]\n",
      "25\n"
     ]
    }
   ],
   "source": [
    "def arraySum(nums):\n",
    "    print(sorted(nums)[::2])\n",
    "    return sum(sorted(nums)[::2])\n",
    "nums = [1,4,3,2,5,6,7,8,9]\n",
    "print(arraySum(nums))"
   ]
  },
  {
   "cell_type": "code",
   "execution_count": 11,
   "metadata": {},
   "outputs": [
    {
     "data": {
      "text/plain": [
       "4"
      ]
     },
     "execution_count": 11,
     "metadata": {},
     "output_type": "execute_result"
    }
   ],
   "source": [
    "def arrayNesting(nums):\n",
    "    res = 0\n",
    "    for i in range(len(nums)):\n",
    "        if nums[i] != float('inf'):\n",
    "            start = nums[i]\n",
    "            count = 0\n",
    "            while nums[start]!=float('inf'):\n",
    "                tmp = start\n",
    "                start = nums[start]\n",
    "                count += 1\n",
    "                nums[tmp] = float('inf')\n",
    "            res = max(res, count)\n",
    "    return res\n",
    "nums = [5,4,0,3,1,6,2]\n",
    "arrayNesting(nums)"
   ]
  },
  {
   "cell_type": "code",
   "execution_count": 12,
   "metadata": {},
   "outputs": [],
   "source": [
    "def arrayNesting(nums):\n",
    "    res = 0\n",
    "    for item in nums:\n",
    "        if item!=float(inf):\n",
    "            start = item\n",
    "            count = 0\n",
    "            while nums[start]!=float('inf'):\n",
    "                nums[start], start = float('inf'), nums[start]\n",
    "                count += 1\n",
    "            res = max(count, res)\n",
    "    return res"
   ]
  },
  {
   "cell_type": "code",
   "execution_count": 16,
   "metadata": {},
   "outputs": [
    {
     "data": {
      "text/plain": [
       "[[1, 2, 3, 4]]"
      ]
     },
     "execution_count": 16,
     "metadata": {},
     "output_type": "execute_result"
    }
   ],
   "source": [
    "def matrixReshape(nums, r, c):\n",
    "    if len(nums)*len(nums[0])!=r*c:\n",
    "        return nums\n",
    "    ans = [[]]\n",
    "    for i in range(len(nums)):\n",
    "        for j in range(len(nums[0])):\n",
    "            k = nums[i][j]\n",
    "            if len(ans[-1])<c:\n",
    "                ans[-1].append(k)\n",
    "            else:\n",
    "                ans.append([k])\n",
    "    return ans\n",
    "nums = [[1,2], [3,4]]\n",
    "r = 1 \n",
    "c = 4\n",
    "matrixReshape(nums, r, c)"
   ]
  },
  {
   "cell_type": "code",
   "execution_count": 17,
   "metadata": {},
   "outputs": [],
   "source": [
    "def matrixReshape(nums, r, c):\n",
    "    if len(nums)* len(nums[0])!=r*c:\n",
    "        return nums\n",
    "    ans = [[]]\n",
    "    for i in range(len(nums)):\n",
    "        for j in range(len(nums[0])):\n",
    "            k = nums[i][j]\n",
    "            if len(ans[-1])<c:\n",
    "                ans[-1].append(k)\n",
    "            else:\n",
    "                ans.append([k])\n",
    "    return ans"
   ]
  },
  {
   "cell_type": "code",
   "execution_count": 24,
   "metadata": {},
   "outputs": [
    {
     "name": "stdout",
     "output_type": "stream",
     "text": [
      "4 10\n",
      "1 5\n"
     ]
    },
    {
     "data": {
      "text/plain": [
       "5"
      ]
     },
     "execution_count": 24,
     "metadata": {},
     "output_type": "execute_result"
    }
   ],
   "source": [
    "def unsort(nums):\n",
    "    if len(nums)<2:\n",
    "        return 0\n",
    "    Min = float('inf')\n",
    "    Max = float('-inf')\n",
    "    for i in range(1, len(nums)):\n",
    "        if nums[i] < nums[i-1]:\n",
    "            Min = min(Min, nums[i])\n",
    "    for i in range(len(nums)-2, -1, -1):\n",
    "        if nums[i]>nums[i+1]:\n",
    "            Max = max(Max, nums[i])\n",
    "    print(Min,Max)\n",
    "    for l in range(len(nums)):\n",
    "        if Min<nums[l]:\n",
    "            break\n",
    "    for r in range(len(nums)-1, -1, -1):\n",
    "        if Max>nums[r]:\n",
    "            break\n",
    "    print(l,r)\n",
    "    if r-l<0:\n",
    "        return 0\n",
    "    else:\n",
    "        return r-l+1\n",
    "nums = [2, 6, 4, 8, 10, 9, 15]\n",
    "unsort(nums)"
   ]
  },
  {
   "cell_type": "code",
   "execution_count": 25,
   "metadata": {},
   "outputs": [],
   "source": [
    "def unsortArray(nums):\n",
    "    if len(nums)<2:\n",
    "        return 0\n",
    "    Min = float('inf')\n",
    "    Max = float('-inf')\n",
    "    for i in range(1, len(nums)):\n",
    "        if nums[i] < nums[i-1]:\n",
    "            Min = min(Min, nums[i])\n",
    "    for i in range(len(nums)-2, -1, -1):\n",
    "        if nums[i]>nums[i+1]:\n",
    "            Max = max(Max, nums[i])\n",
    "    for l in range(len(nums)):\n",
    "        if Min<nums[l]:\n",
    "            break\n",
    "    for r in range(len(nums)-1, -1, -1):\n",
    "        if Max>nums[r]:\n",
    "            break\n",
    "    if r-l<0:\n",
    "        return 0\n",
    "    else:\n",
    "        return r-l+1"
   ]
  },
  {
   "cell_type": "code",
   "execution_count": 27,
   "metadata": {},
   "outputs": [],
   "source": [
    "def canPlaceFlower(nums, n):\n",
    "    i, count = 0, 0\n",
    "    while i<len(nums):\n",
    "        if nums[i]==0 and (i==0 or nums[i-1]==0) \\\n",
    "            and (i==len(nums)-1 or nums[i+1]==0):\n",
    "            nums[i] = 1\n",
    "            count += 1\n",
    "        i += 1\n",
    "    return count>=n"
   ]
  },
  {
   "cell_type": "code",
   "execution_count": 28,
   "metadata": {},
   "outputs": [],
   "source": [
    "def canPlace(nums, n):\n",
    "    i, count = 0, 0\n",
    "    while i<len(nums):\n",
    "        if nums[i]==0 and (i==0 or nnums[i-1]==0) and \\\n",
    "        (i==len(nums)-1 or nums[i+1]==0):\n",
    "            nums[i] = 1\n",
    "            count += 1\n",
    "        i += 1\n",
    "    return count>=n"
   ]
  },
  {
   "cell_type": "code",
   "execution_count": 29,
   "metadata": {},
   "outputs": [],
   "source": [
    "def canPlace(nums):\n",
    "    i, count = 0, 0\n",
    "    while i<len(nums):\n",
    "        if nums[i]==0 and (i==0 or nums[i-1]==0) and (i==len(nums)-1 or nums[i+1]==0):\n",
    "            nums[i] = 1\n",
    "            count += 1\n",
    "        i += 1\n",
    "    return count>=n"
   ]
  },
  {
   "cell_type": "code",
   "execution_count": 31,
   "metadata": {},
   "outputs": [
    {
     "data": {
      "text/plain": [
       "3"
      ]
     },
     "execution_count": 31,
     "metadata": {},
     "output_type": "execute_result"
    }
   ],
   "source": [
    "def triangleNumber(nums):\n",
    "    count = 0\n",
    "    nums.sort()\n",
    "    for i in range(0, len(nums)-2):\n",
    "        k = i+2\n",
    "        if nums[i]!=0:\n",
    "            for j in range(i+1, len(nums)-1):\n",
    "                while k<len(nums) and nums[i]+nums[j]>nums[k]:\n",
    "                    k += 1\n",
    "                count += k-j-1\n",
    "    return count\n",
    "nums = [2,2,3,4]\n",
    "triangleNumber(nums)"
   ]
  },
  {
   "cell_type": "code",
   "execution_count": 32,
   "metadata": {},
   "outputs": [],
   "source": [
    "def triangleNumber(nums):\n",
    "    count = 0\n",
    "    nums.sort()\n",
    "    for i in range(0, len(nums)-2):\n",
    "        k = i+2\n",
    "        if nums[i]!=0:\n",
    "            for j in range(i+1, len(nums)-1):\n",
    "                while k<len(nums) and nums[i] + nums[j]>nums[k]:\n",
    "                    k += 1\n",
    "                count += k-j+1\n",
    "    return count\n",
    "    "
   ]
  },
  {
   "cell_type": "code",
   "execution_count": 33,
   "metadata": {},
   "outputs": [],
   "source": [
    "def trinums(nums):\n",
    "    count = 0\n",
    "    nums.sort()\n",
    "    for i in range(len(nums)-2):\n",
    "        k = i+2\n",
    "        if nums[i]!=0:\n",
    "            for j in range(i+1, len(nums)-1):\n",
    "                while k<len(nums) and nums[i] + nums[j]>nums[k]:\n",
    "                    k += 1\n",
    "                count += k-j+1\n",
    "    return count"
   ]
  },
  {
   "cell_type": "code",
   "execution_count": null,
   "metadata": {},
   "outputs": [],
   "source": []
  }
 ],
 "metadata": {
  "kernelspec": {
   "display_name": "Python 3",
   "language": "python",
   "name": "python3"
  },
  "language_info": {
   "codemirror_mode": {
    "name": "ipython",
    "version": 3
   },
   "file_extension": ".py",
   "mimetype": "text/x-python",
   "name": "python",
   "nbconvert_exporter": "python",
   "pygments_lexer": "ipython3",
   "version": "3.7.5"
  }
 },
 "nbformat": 4,
 "nbformat_minor": 2
}
